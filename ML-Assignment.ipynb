{
 "cells": [
  {
   "cell_type": "code",
   "execution_count": 4,
   "id": "d4c2bbbc-e3d0-48be-ab22-6970166489e0",
   "metadata": {},
   "outputs": [
    {
     "name": "stdout",
     "output_type": "stream",
     "text": [
      "[10, 30.0, 30, 30.0, 50]\n"
     ]
    }
   ],
   "source": [
    "def replace_missing_with_mean(numbers):\n",
    "\n",
    "    mean = sum(num for num in numbers if num is not None) / len([num for num in numbers if num is not None])\n",
    "    \n",
    "    replaced = [num if num is not None else mean for num in numbers]\n",
    "    \n",
    "    return replaced\n",
    "numbers = [10, None, 30, None, 50]\n",
    "replaced_numbers = replace_missing_with_mean(numbers)\n",
    "print(replaced_numbers)\n"
   ]
  },
  {
   "cell_type": "code",
   "execution_count": 6,
   "id": "e99e4733-b922-4433-aef6-53e55b5b5e33",
   "metadata": {},
   "outputs": [
    {
     "name": "stdout",
     "output_type": "stream",
     "text": [
      "[0.0, 0.25, 0.5, 0.75, 1.0]\n"
     ]
    }
   ],
   "source": [
    "def min_max_scale(numbers):\n",
    "   \n",
    "    min_val = min(numbers)\n",
    "    max_val = max(numbers)\n",
    "\n",
    "    scaled_numbers = [(num - min_val) / (max_val - min_val) for num in numbers]\n",
    "    \n",
    "    return scaled_numbers\n",
    "    \n",
    "numbers = [20, 40, 60, 80, 100]\n",
    "scaled_numbers = min_max_scale(numbers)\n",
    "print(scaled_numbers)\n"
   ]
  },
  {
   "cell_type": "code",
   "execution_count": 8,
   "id": "612fa8c2-e42f-4acc-bce7-538074d9d727",
   "metadata": {},
   "outputs": [
    {
     "name": "stdout",
     "output_type": "stream",
     "text": [
      "[0, 1, 0, 1]\n"
     ]
    }
   ],
   "source": [
    "def binarize(numbers, threshold):\n",
    "  \n",
    "    binarized_numbers = [1 if num >= threshold else 0 for num in numbers]\n",
    "    \n",
    "    return binarized_numbers\n",
    "\n",
    "numbers = [1.5, 2.3, 0.8, 3.0]\n",
    "threshold = 2.0\n",
    "binarized_numbers = binarize(numbers, threshold)\n",
    "print(binarized_numbers)\n"
   ]
  },
  {
   "cell_type": "code",
   "execution_count": 10,
   "id": "036e9e55-530a-4d49-93ab-e95b309da9e0",
   "metadata": {},
   "outputs": [
    {
     "name": "stdout",
     "output_type": "stream",
     "text": [
      "[5, 7, 9]\n"
     ]
    }
   ],
   "source": [
    "def approximate_f(inputs):\n",
    "    def f(x):\n",
    "        return 2 * x + 3\n",
    "    \n",
    "    outputs = [f(x) for x in inputs]\n",
    "    \n",
    "    return outputs\n",
    "\n",
    "inputs = [1, 2, 3]\n",
    "approximated_outputs = approximate_f(inputs)\n",
    "print(approximated_outputs)\n"
   ]
  },
  {
   "cell_type": "code",
   "execution_count": 14,
   "id": "f9a6f4bd-3496-49b8-a5ae-b346680e7d82",
   "metadata": {},
   "outputs": [
    {
     "name": "stdout",
     "output_type": "stream",
     "text": [
      "[-1.3416407864998738, -0.4472135954999579, 0.4472135954999579, 1.3416407864998738]\n"
     ]
    }
   ],
   "source": [
    "def standardize(numbers):\n",
    "    mean = sum(numbers) / len(numbers)\n",
    "    \n",
    "    variance = sum((num - mean) ** 2 for num in numbers) / len(numbers)\n",
    "    std_dev = variance ** 0.5\n",
    "    \n",
    "    standardized_numbers = [(num - mean) / std_dev for num in numbers]\n",
    "    \n",
    "    return standardized_numbers\n",
    "\n",
    "numbers = [10, 20, 30, 40]\n",
    "standardized_numbers = standardize(numbers)\n",
    "print(standardized_numbers)\n"
   ]
  },
  {
   "cell_type": "code",
   "execution_count": 16,
   "id": "d9bd525b-aa54-4354-8eca-b3b9a0bc9498",
   "metadata": {},
   "outputs": [
    {
     "name": "stdout",
     "output_type": "stream",
     "text": [
      "{'A': [1, 3, 5], 'B': [2, 4]}\n"
     ]
    }
   ],
   "source": [
    "def create_concept_representation(data, labels):\n",
    "    concept_representation = {}\n",
    "    \n",
    "    for point, label in zip(data, labels):\n",
    "        if label not in concept_representation:\n",
    "            concept_representation[label] = []\n",
    "        concept_representation[label].append(point)\n",
    "    \n",
    "    return concept_representation\n",
    "\n",
    "data = [1, 2, 3, 4, 5]\n",
    "labels = [\"A\", \"B\", \"A\", \"B\", \"A\"]\n",
    "concept_representation = create_concept_representation(data, labels)\n",
    "print(concept_representation)\n"
   ]
  },
  {
   "cell_type": "code",
   "execution_count": 22,
   "id": "1671b97b-8a7f-459d-bbee-ddd271fa0583",
   "metadata": {},
   "outputs": [
    {
     "name": "stdout",
     "output_type": "stream",
     "text": [
      "Supervised Learning\n"
     ]
    }
   ],
   "source": [
    "def categorize_ml_task(description):\n",
    "    supervised_keywords = [\"predict\", \"classification\", \"regression\", \"labeled\", \"label\"]\n",
    "    \n",
    "    unsupervised_keywords = [\"cluster\", \"group\", \"find patterns\", \"reduce dimensions\", \"unlabeled\"]\n",
    "    \n",
    "    description_lower = description.lower()\n",
    "    \n",
    "    if any(keyword in description_lower for keyword in supervised_keywords):\n",
    "        return \"Supervised Learning\"\n",
    "    \n",
    "    elif any(keyword in description_lower for keyword in unsupervised_keywords):\n",
    "        return \"Unsupervised Learning\"\n",
    "    \n",
    "    else:\n",
    "        return None\n",
    "\n",
    "description = \"Predict the price of a house based on features like size, location, and age.\"\n",
    "category = categorize_ml_task(description)\n",
    "print(category)\n"
   ]
  },
  {
   "cell_type": "code",
   "execution_count": 26,
   "id": "8b0be032-a7bd-45e1-8ad9-a26625643575",
   "metadata": {},
   "outputs": [
    {
     "name": "stdout",
     "output_type": "stream",
     "text": [
      "Unsupervised Learning\n"
     ]
    }
   ],
   "source": [
    "def categorize_ml_task(description):\n",
    "    supervised_keywords = [\"predict\", \"classification\", \"regression\", \"labeled\", \"label\"]\n",
    "    \n",
    "    unsupervised_keywords = [\"cluster\", \"group\", \"find patterns\", \"reduce dimensions\", \"unlabeled\"]\n",
    "    \n",
    "    description_lower = description.lower()\n",
    "    \n",
    "    if any(keyword in description_lower for keyword in supervised_keywords):\n",
    "        return \"Supervised Learning\"\n",
    "    \n",
    "    elif any(keyword in description_lower for keyword in unsupervised_keywords):\n",
    "        return \"Unsupervised Learning\"\n",
    "    \n",
    "    else:\n",
    "        return None\n",
    "\n",
    "description = \"Group customers based on their purchasing patterns.\"\n",
    "category = categorize_ml_task(description)\n",
    "print(category)\n"
   ]
  },
  {
   "cell_type": "code",
   "execution_count": 28,
   "id": "e9910bbb-bf5a-4406-a5df-8e38de431d3b",
   "metadata": {},
   "outputs": [
    {
     "name": "stdout",
     "output_type": "stream",
     "text": [
      "11.0\n"
     ]
    }
   ],
   "source": [
    "def predict_y(m, c, x):\n",
    "    y = m * x + c\n",
    "    return y\n",
    "\n",
    "m = 2.0\n",
    "c = 1.0\n",
    "x = 5.0\n",
    "predicted_y = predict_y(m, c, x)\n",
    "print(predicted_y)\n"
   ]
  },
  {
   "cell_type": "code",
   "execution_count": 30,
   "id": "40be3a8a-c544-4490-b2bd-9e42bd1f1471",
   "metadata": {},
   "outputs": [
    {
     "name": "stdout",
     "output_type": "stream",
     "text": [
      "[1, 2, 3, 4, 8]\n"
     ]
    }
   ],
   "source": [
    "def remove_duplicates_and_sort(data):\n",
    "    unique_data = list(set(data))\n",
    "    \n",
    "    unique_data.sort()\n",
    "    \n",
    "    return unique_data\n",
    "\n",
    "data = [4, 2, 2, 8, 3, 3, 1]\n",
    "sorted_unique_data = remove_duplicates_and_sort(data)\n",
    "print(sorted_unique_data)\n"
   ]
  },
  {
   "cell_type": "code",
   "execution_count": null,
   "id": "9d09c3c2-bd39-4275-bf01-5da36c6c3d29",
   "metadata": {},
   "outputs": [],
   "source": []
  }
 ],
 "metadata": {
  "kernelspec": {
   "display_name": "Python [conda env:base] *",
   "language": "python",
   "name": "conda-base-py"
  },
  "language_info": {
   "codemirror_mode": {
    "name": "ipython",
    "version": 3
   },
   "file_extension": ".py",
   "mimetype": "text/x-python",
   "name": "python",
   "nbconvert_exporter": "python",
   "pygments_lexer": "ipython3",
   "version": "3.12.7"
  }
 },
 "nbformat": 4,
 "nbformat_minor": 5
}
