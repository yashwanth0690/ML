{
 "cells": [
  {
   "cell_type": "code",
   "execution_count": 12,
   "id": "60221ecc-d984-47d6-9daa-c8e526effbae",
   "metadata": {},
   "outputs": [
    {
     "name": "stdout",
     "output_type": "stream",
     "text": [
      "\n",
      "Scaled data:\n",
      " [[0.4 0.7 0.6 0.4 0.  0.5 0.2 0.5 1. ]\n",
      " [0.1 0.4 0.5 0.3 0.  0.4 0.1 0.2 0. ]\n",
      " [0.5 0.9 0.5 0.  0.  0.3 0.3 0.2 1. ]\n",
      " [0.1 0.4 0.5 0.2 0.1 0.4 0.  0.  0. ]\n",
      " [0.  0.7 0.3 0.4 0.2 0.6 0.9 0.2 1. ]\n",
      " [0.3 0.6 0.6 0.  0.  0.4 0.1 0.2 0. ]\n",
      " [0.2 0.4 0.4 0.3 0.1 0.5 0.1 0.1 1. ]\n",
      " [0.6 0.6 0.  0.  0.  0.5 0.  0.1 0. ]\n",
      " [0.1 1.  0.6 0.5 0.6 0.5 0.  0.5 1. ]\n",
      " [0.5 0.6 0.8 0.  0.  0.  0.1 0.6 1. ]]\n"
     ]
    }
   ],
   "source": [
    "from pandas import read_csv \n",
    "from numpy import set_printoptions \n",
    "from sklearn import preprocessing \n",
    "path = r\"C:\\Users\\yashw\\Downloads\\pima-indians-diabetes.data.csv\"\n",
    "names = ['preg', 'plas', 'pres', 'skin', 'test', 'mass', 'pedi', 'age', 'class'] \n",
    "dataframe = read_csv(path, names=names) \n",
    "array = dataframe.values \n",
    "data_scaler = preprocessing.MinMaxScaler(feature_range=(0,1)) \n",
    "data_rescaled = data_scaler.fit_transform(array) \n",
    "set_printoptions(precision=1) \n",
    "print (\"\\nScaled data:\\n\", data_rescaled[0:10]) "
   ]
  },
  {
   "cell_type": "code",
   "execution_count": 8,
   "id": "42a5fabb-fd9e-4c36-bd59-4d1454fa1535",
   "metadata": {},
   "outputs": [
    {
     "name": "stdout",
     "output_type": "stream",
     "text": [
      "Original Dataset:\n",
      "   PassengerId     Name   Age   Fare  Survived\n",
      "0            1     John  22.0   7.25         0\n",
      "1            2     Jane   NaN  71.28         1\n",
      "2            3      Bob  25.0    NaN         1\n",
      "3            4    Alice   NaN   8.05         0\n",
      "4            5  Charlie  30.0  10.50         1\n",
      "\n",
      "Cleaned Dataset:\n",
      "   PassengerId        Age   Fare  Survived\n",
      "0          1.0  22.000000   7.25       0.0\n",
      "1          2.0  25.666667  71.28       1.0\n",
      "2          3.0  25.000000  24.27       1.0\n",
      "3          4.0  25.666667   8.05       0.0\n",
      "4          5.0  30.000000  10.50       1.0\n"
     ]
    }
   ],
   "source": [
    "import pandas as pd\n",
    "from sklearn.impute import SimpleImputer\n",
    "\n",
    "def generate_example_dataset():\n",
    "    # Create an example dataset with missing values\n",
    "    data = {\n",
    "        'PassengerId': [1, 2, 3, 4, 5],\n",
    "        'Name': ['John', 'Jane', 'Bob', 'Alice', 'Charlie'],\n",
    "        'Age': [22, None, 25, None, 30],\n",
    "        'Fare': [7.25, 71.28, None, 8.05, 10.5],\n",
    "        'Survived': [0, 1, 1, 0, 1]\n",
    "    }\n",
    "    return pd.DataFrame(data)\n",
    "\n",
    "def clean_dataset(df):\n",
    "    # Display the original dataset\n",
    "    print(\"Original Dataset:\")\n",
    "    print(df)\n",
    "\n",
    "    # Drop non-numeric columns\n",
    "    numeric_df = df.select_dtypes(include='number')\n",
    "\n",
    "    # Handling missing values using SimpleImputer (mean strategy)\n",
    "    imputer = SimpleImputer(strategy='mean')\n",
    "    df_cleaned = pd.DataFrame(imputer.fit_transform(numeric_df), columns=numeric_df.columns)\n",
    "\n",
    "    # Display the cleaned dataset\n",
    "    print(\"\\nCleaned Dataset:\")\n",
    "    print(df_cleaned)\n",
    "\n",
    "if __name__ == \"__main__\":\n",
    "    # Generate an example dataset with missing values\n",
    "    example_dataset = generate_example_dataset()\n",
    "\n",
    "    # Call the clean_dataset function\n",
    "    clean_dataset(example_dataset)\n"
   ]
  },
  {
   "cell_type": "code",
   "execution_count": null,
   "id": "ece8f18b-f95b-4042-84c5-437af505e8eb",
   "metadata": {},
   "outputs": [],
   "source": []
  }
 ],
 "metadata": {
  "kernelspec": {
   "display_name": "Python [conda env:base] *",
   "language": "python",
   "name": "conda-base-py"
  },
  "language_info": {
   "codemirror_mode": {
    "name": "ipython",
    "version": 3
   },
   "file_extension": ".py",
   "mimetype": "text/x-python",
   "name": "python",
   "nbconvert_exporter": "python",
   "pygments_lexer": "ipython3",
   "version": "3.12.7"
  }
 },
 "nbformat": 4,
 "nbformat_minor": 5
}
